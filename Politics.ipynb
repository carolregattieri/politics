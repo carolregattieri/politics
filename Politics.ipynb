{
 "cells": [
  {
   "cell_type": "code",
   "execution_count": 10,
   "metadata": {},
   "outputs": [],
   "source": [
    "import tweepy\n",
    "import json\n"
   ]
  },
  {
   "cell_type": "code",
   "execution_count": 18,
   "metadata": {},
   "outputs": [],
   "source": [
    "candidates = ['alvarodias_', 'cirogomes', 'guilhermeboulos', 'jairbolsonaro', 'geraldoalckmin',\n",
    "              'marinasilva', 'lulaoficial', 'meirelles']"
   ]
  },
  {
   "cell_type": "code",
   "execution_count": 15,
   "metadata": {},
   "outputs": [],
   "source": [
    "with open('tokens.json') as f:\n",
    "    tokens = json.load(f)"
   ]
  },
  {
   "cell_type": "code",
   "execution_count": 16,
   "metadata": {},
   "outputs": [],
   "source": [
    "auth = tweepy.OAuthHandler(tokens[\"consumer_key\"], tokens[\"consumer_secret\"])\n",
    "auth.set_access_token(tokens[\"access_token\"], tokens[\"access_token_secret\"])\n",
    "\n",
    "api = tweepy.API(auth)\n",
    "\n",
    "# public_tweets = api.home_timeline()\n",
    "# for tweet in public_tweets:\n",
    "#     print(tweet.text)"
   ]
  },
  {
   "cell_type": "code",
   "execution_count": 19,
   "metadata": {
    "scrolled": true
   },
   "outputs": [
    {
     "name": "stdout",
     "output_type": "stream",
     "text": [
      "alvarodias_ 354416\n",
      "\n",
      "cirogomes 203598\n",
      "\n",
      "GuilhermeBoulos 102460\n",
      "\n",
      "jairbolsonaro 1278803\n",
      "\n",
      "geraldoalckmin 972388\n",
      "\n",
      "MarinaSilva 1879613\n",
      "\n",
      "LulaOficial 400639\n",
      "\n",
      "meirelles 55473\n",
      "\n"
     ]
    }
   ],
   "source": [
    "for cand in candidates:\n",
    "    user = api.get_user(cand)\n",
    "    print(user.screen_name, user.followers_count)"
   ]
  },
  {
   "cell_type": "code",
   "execution_count": 20,
   "metadata": {},
   "outputs": [],
   "source": [
    "def get_last_tweet(cand):\n",
    "    tweet = api.user_timeline(id = api.get_user(cand).id, count = 1)[0]\n",
    "    print(tweet.text)"
   ]
  },
  {
   "cell_type": "code",
   "execution_count": 21,
   "metadata": {},
   "outputs": [
    {
     "name": "stdout",
     "output_type": "stream",
     "text": [
      "Algumas candidaturas têm muito dinheiro e muito tempo de TV, mas não têm a força das nossas ideias e nem a coragem… https://t.co/P0fqPlFUg8\n"
     ]
    }
   ],
   "source": [
    "get_last_tweet('alvarodias_')"
   ]
  },
  {
   "cell_type": "code",
   "execution_count": null,
   "metadata": {},
   "outputs": [],
   "source": []
  }
 ],
 "metadata": {
  "kernelspec": {
   "display_name": "Python 3",
   "language": "python",
   "name": "python3"
  },
  "language_info": {
   "codemirror_mode": {
    "name": "ipython",
    "version": 3
   },
   "file_extension": ".py",
   "mimetype": "text/x-python",
   "name": "python",
   "nbconvert_exporter": "python",
   "pygments_lexer": "ipython3",
   "version": "3.6.1"
  }
 },
 "nbformat": 4,
 "nbformat_minor": 2
}
